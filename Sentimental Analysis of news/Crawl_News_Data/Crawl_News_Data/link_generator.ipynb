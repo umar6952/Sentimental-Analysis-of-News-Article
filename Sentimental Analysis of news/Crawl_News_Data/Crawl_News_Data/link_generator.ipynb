{
 "cells": [
  {
   "cell_type": "code",
   "execution_count": 164,
   "metadata": {},
   "outputs": [],
   "source": [
    "\n",
    "a = ['TCS.NS','IDEA.NS', 'SBIN.NS', 'ITC.NS', 'TATAMOTORS.N', 'WIPRO.N']\n",
    "initial = 'https://economictimes.indiatimes.com/archivelist/year-2018,month-7,starttime-40909.cms'\n",
    "myfile = open('url_list.txt','w')\n",
    "\n",
    "for year in list(range(2011,2018)):\n",
    "\tyear_link = initial[:-32] + str(year) + initial[58:]\n",
    "\tfor month in list(range(1,10)):\n",
    "\t\tmonth_link = year_link[:-21] + str(month) + year_link[66:]\n",
    "        \n",
    "\t\tfor day in list(range(1,32)):\n",
    "\n",
    "\t\t\ts = e+int(day)\n",
    "\t\n",
    "\t\t\tday_link = month_link[:-9]+ str(s)+month_link[82:]# print(day_link)\\\n",
    "\t\t\tmyfile.write(day_link+'\\n')\n",
    "\t\te = 40877\n",
    "\t\te = s\n",
    "\n",
    "myfile.close()\n"
   ]
  },
  {
   "cell_type": "code",
   "execution_count": 48,
   "metadata": {},
   "outputs": [],
   "source": [
    "initial = 'https://economictimes.indiatimes.com/archivelist/year-2018,month-7,starttime-43286.cms'\n"
   ]
  },
  {
   "cell_type": "code",
   "execution_count": 49,
   "metadata": {},
   "outputs": [
    {
     "data": {
      "text/plain": [
       "'https://economictimes.indiatimes.com/archivelist/year-2017,month-7,starttime-43286.cms'"
      ]
     },
     "execution_count": 49,
     "metadata": {},
     "output_type": "execute_result"
    }
   ],
   "source": [
    "year_link"
   ]
  },
  {
   "cell_type": "code",
   "execution_count": 121,
   "metadata": {},
   "outputs": [],
   "source": [
    "for month in list(range(1,13)):\n",
    "    month_link = year_link[:-21] + str(month) + year_link[66:]"
   ]
  },
  {
   "cell_type": "code",
   "execution_count": 122,
   "metadata": {},
   "outputs": [
    {
     "data": {
      "text/plain": [
       "'https://economictimes.indiatimes.com/archivelist/year-2017,month-12,starttime-43286.cms'"
      ]
     },
     "execution_count": 122,
     "metadata": {},
     "output_type": "execute_result"
    }
   ],
   "source": [
    "month_link"
   ]
  },
  {
   "cell_type": "code",
   "execution_count": 129,
   "metadata": {},
   "outputs": [],
   "source": [
    "\n",
    "day_link = month_link[78:-4] \n",
    "day = int(day_link) +1"
   ]
  },
  {
   "cell_type": "code",
   "execution_count": 130,
   "metadata": {},
   "outputs": [
    {
     "data": {
      "text/plain": [
       "40910"
      ]
     },
     "execution_count": 130,
     "metadata": {},
     "output_type": "execute_result"
    }
   ],
   "source": [
    "day"
   ]
  },
  {
   "cell_type": "code",
   "execution_count": 133,
   "metadata": {},
   "outputs": [],
   "source": [
    "day_lin = month_link[78:-4] \n",
    "day = int(day_lin) +2\n",
    "day_link = month_link[:-9]+ str(day)+month_link[83:]"
   ]
  },
  {
   "cell_type": "code",
   "execution_count": 134,
   "metadata": {},
   "outputs": [
    {
     "data": {
      "text/plain": [
       "'https://economictimes.indiatimes.com/archivelist/year-2017,month-12,starttime-40911.cms'"
      ]
     },
     "execution_count": 134,
     "metadata": {},
     "output_type": "execute_result"
    }
   ],
   "source": [
    "day_link"
   ]
  },
  {
   "cell_type": "code",
   "execution_count": null,
   "metadata": {},
   "outputs": [],
   "source": []
  }
 ],
 "metadata": {
  "kernelspec": {
   "display_name": "Python 3",
   "language": "python",
   "name": "python3"
  },
  "language_info": {
   "codemirror_mode": {
    "name": "ipython",
    "version": 3
   },
   "file_extension": ".py",
   "mimetype": "text/x-python",
   "name": "python",
   "nbconvert_exporter": "python",
   "pygments_lexer": "ipython3",
   "version": "3.6.8"
  }
 },
 "nbformat": 4,
 "nbformat_minor": 2
}
